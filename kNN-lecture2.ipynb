{
 "cells": [
  {
   "cell_type": "code",
   "execution_count": 1,
   "metadata": {},
   "outputs": [],
   "source": [
    "# credits  http://cs231n.github.io/classification/\n",
    "# note: this file is a python3 notebook"
   ]
  },
  {
   "cell_type": "code",
   "execution_count": 2,
   "metadata": {},
   "outputs": [],
   "source": [
    "import pickle\n",
    "import numpy as np"
   ]
  },
  {
   "cell_type": "code",
   "execution_count": 3,
   "metadata": {},
   "outputs": [],
   "source": [
    "# download dataset from http://www.cs.toronto.edu/~kriz/cifar.html\n",
    "def unpickle(file):\n",
    "    with open(file, 'rb') as fo:\n",
    "        dictionary = pickle.load(fo, encoding='bytes')\n",
    "    return dictionary"
   ]
  },
  {
   "cell_type": "code",
   "execution_count": 4,
   "metadata": {},
   "outputs": [],
   "source": [
    "# process the data\n",
    "# create Xtr, Ytr, Xte, Yte\n",
    "\n",
    "Ytr = []\n",
    "# note: this creates a row with random numbers\n",
    "Xtr = np.ndarray(shape=(1,3072), dtype = 'int16')\n",
    "\n",
    "for i in range(1, 6):\n",
    "    file_path = 'cifar-10-batches-py/data_batch_' + str(i)\n",
    "    data_batch = unpickle(file_path)\n",
    "    Ytr += data_batch[b'labels']\n",
    "    Xtr = np.concatenate([Xtr, data_batch[b'data']], axis = 0)\n",
    "\n",
    "# delete the first row we had created randomly\n",
    "Xtr = np.delete(Xtr, (0), axis=0)\n",
    "\n",
    "# creating the test data \n",
    "file_path = 'cifar-10-batches-py/test_batch'\n",
    "test_batch = unpickle(file_path)\n",
    "Yte = test_batch[b'labels']\n",
    "Xte = test_batch[b'data']\n",
    "Xte = Xte.astype(np.int16)"
   ]
  },
  {
   "cell_type": "code",
   "execution_count": 5,
   "metadata": {},
   "outputs": [],
   "source": [
    "# nearest neighbor classifier with L1 distance\n",
    "\n",
    "class NearestNeighbor(object):\n",
    "    def __init__(self):\n",
    "        pass\n",
    "\n",
    "    def train(self, X, y):\n",
    "        \"\"\" X is N x D where each row is an example. Y is 1-dimension of size N \"\"\"\n",
    "        # the nearest neighbor classifier simply remembers all the training data\n",
    "        self.Xtr = X\n",
    "        self.ytr = y\n",
    "\n",
    "    def predict(self, X):\n",
    "        \"\"\" X is N x D where each row is an example we wish to predict label for \"\"\"\n",
    "        num_test = X.shape[0]\n",
    "        # lets make sure that the output type matches the input type\n",
    "        Ypred = np.zeros(num_test)\n",
    "\n",
    "        # loop over all test rows\n",
    "        for i in range(num_test):\n",
    "            # find the nearest training image to the i'th test image\n",
    "            # using the L1 distance (sum of absolute value differences)\n",
    "            distances = np.sum(np.abs(self.Xtr - X[i,:]), axis = 1)\n",
    "            min_index = np.argmin(distances) # get the index with smallest distance\n",
    "            Ypred[i] = self.ytr[min_index] # predict the label of the nearest example\n",
    "        \n",
    "        return Ypred"
   ]
  },
  {
   "cell_type": "code",
   "execution_count": 6,
   "metadata": {},
   "outputs": [
    {
     "name": "stdout",
     "output_type": "stream",
     "text": [
      "accuracy:  0.3859\n"
     ]
    }
   ],
   "source": [
    "# test the classifier\n",
    "\n",
    "# create a Nearest Neighbor classifier class\n",
    "nn = NearestNeighbor()\n",
    "\n",
    "# train the classifier on the training images and labels\n",
    "nn.train(Xtr, Ytr)\n",
    "\n",
    "# predict labels on the test images\n",
    "Yte_predict = nn.predict(Xte)\n",
    "\n",
    "# and now print the classification accuracy, which is the average number of examples that are correctly predicted (i.e. label matches)\n",
    "print('accuracy: ', (np.mean(Yte_predict == Yte)))"
   ]
  },
  {
   "cell_type": "code",
   "execution_count": null,
   "metadata": {},
   "outputs": [],
   "source": [
    "# do not run this code just yet, you'll have to modify the class NearestNeighbor to work for 'k' neighbors.\n",
    "\n",
    "# assume we have Xtr, Ytr, Xte, Yte as before\n",
    "# recall Xtr is 50,000 x 3072 matrix\n",
    "\n",
    "# take first 1000 for validation\n",
    "Xval = Xtr[:1000, :]\n",
    "Yval = Ytr[:1000]\n",
    "\n",
    "# keep last 49,000 for train\n",
    "Xtr = Xtr[1000:, :]\n",
    "Ytr = Ytr[1000:]\n",
    "\n",
    "# find hyperparameters that work best on the validation set\n",
    "validation_accuracies = []\n",
    "for k in [1, 3, 5, 10, 20, 50, 100]:\n",
    "    \n",
    "    # use a particular value of k and evaluation on validation data\n",
    "    nn = NearestNeighbor()\n",
    "    nn.train(Xtr, Ytr)\n",
    "    \n",
    "    # here we assume a modified NearestNeighbor class that can take a k as input\n",
    "    Yval_predict = nn.predict(Xval, k = k)\n",
    "    acc = np.mean(Yval_predict == Yval)\n",
    "    print 'accuracy: %f' % (acc,)\n",
    "\n",
    "    # keep track of what works on the validation set\n",
    "    validation_accuracies.append((k, acc))"
   ]
  }
 ],
 "metadata": {
  "kernelspec": {
   "display_name": "Python 3",
   "language": "python",
   "name": "python3"
  },
  "language_info": {
   "codemirror_mode": {
    "name": "ipython",
    "version": 3
   },
   "file_extension": ".py",
   "mimetype": "text/x-python",
   "name": "python",
   "nbconvert_exporter": "python",
   "pygments_lexer": "ipython3",
   "version": "3.6.4"
  }
 },
 "nbformat": 4,
 "nbformat_minor": 2
}
